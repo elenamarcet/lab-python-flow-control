{
 "cells": [
  {
   "cell_type": "markdown",
   "id": "d3bfc191-8885-42ee-b0a0-bbab867c6f9f",
   "metadata": {
    "tags": []
   },
   "source": [
    "# Lab | Flow Control"
   ]
  },
  {
   "cell_type": "markdown",
   "id": "3851fcd1-cf98-4653-9c89-e003b7ec9400",
   "metadata": {},
   "source": [
    "## Exercise: Managing Customer Orders Optimized\n",
    "\n",
    "In the last lab, you were starting an online store that sells various products. To ensure smooth operations, you developed a program that manages customer orders and inventory.\n",
    "\n",
    "You did so without using flow control. Let's go a step further and improve this code.\n",
    "\n",
    "Follow the steps below to complete the exercise:\n",
    "\n",
    "1. Look at your code from the lab data structures, and improve repeated code with loops.\n",
    "\n",
    "2. Instead of asking the user to input the name of three products that a customer wants to order, do the following:\n",
    "    \n",
    "    a. Prompt the user to enter the name of a product that a customer wants to order.\n",
    "    \n",
    "    b. Add the product name to the \"customer_orders\" set.\n",
    "    \n",
    "    c. Ask the user if they want to add another product (yes/no).\n",
    "    \n",
    "    d. Continue the loop until the user does not want to add another product.\n",
    "\n",
    "3. Instead of updating the inventory by subtracting 1 from the quantity of each product, only do it for  the products that were ordered (those in \"customer_orders\")."
   ]
  },
  {
   "cell_type": "code",
   "execution_count": 1,
   "id": "29acf94a",
   "metadata": {},
   "outputs": [],
   "source": [
    "products=[\"t-shirt\",\"mug\",\"hat\",\"book\",\"keychain\"]\n",
    "\n",
    "inventory={}"
   ]
  },
  {
   "cell_type": "code",
   "execution_count": 3,
   "id": "f452fb09",
   "metadata": {},
   "outputs": [
    {
     "name": "stdout",
     "output_type": "stream",
     "text": [
      "The quantity of products is:  {'t-shirt': 4, 'mug': 5, 'hat': 3, 'book': 4, 'keychain': 3}\n"
     ]
    }
   ],
   "source": [
    "#ask the user to enter the quantity of each product in the inventory\n",
    "for product in products:\n",
    "    quantity=int(input(f\"Enter the available quantity of {product}: \"))\n",
    "    inventory[product]=quantity\n",
    "\n",
    "print(\"The quantity of products is: \", inventory)"
   ]
  },
  {
   "cell_type": "code",
   "execution_count": 4,
   "id": "8bb9ad66",
   "metadata": {},
   "outputs": [
    {
     "name": "stdout",
     "output_type": "stream",
     "text": [
      "Product ordered: {'hat'}\n"
     ]
    }
   ],
   "source": [
    "customer_orders=set()\n",
    "\n",
    "while True:\n",
    "    product_ordered=input(\"Enter the name of the product the customer wants to order: \").strip().lower()\n",
    "\n",
    "    if product_ordered in products:\n",
    "        if product_ordered in customer_orders:\n",
    "            print(\"the product was ordered\")\n",
    "        else:\n",
    "         customer_orders.add(product_ordered)\n",
    "\n",
    "    else:\n",
    "        print(\"Product invalid. Please, choose a product of the list\")\n",
    "    \n",
    "    add_another= input(\"Do you want to add another product?(Yes/No): \").strip().lower()\n",
    "    if add_another != \"yes\":\n",
    "        break\n",
    "print(\"Product ordered:\", customer_orders)"
   ]
  },
  {
   "cell_type": "code",
   "execution_count": 5,
   "id": "8f34a978",
   "metadata": {},
   "outputs": [
    {
     "name": "stdout",
     "output_type": "stream",
     "text": [
      "There are 4 of t-shirt\n",
      "There are 5 of mug\n",
      "There are 2 of hat\n",
      "There are 4 of book\n",
      "There are 3 of keychain\n"
     ]
    }
   ],
   "source": [
    "#Update the inventory by substracting 1 for the products ordered\n",
    "\n",
    "for product,quantity in inventory.items():\n",
    "    if product in list(customer_orders):\n",
    "        quantity = int(quantity)\n",
    "        quantity -= 1\n",
    "    \n",
    "    print(f\"There are {quantity} of {product}\")"
   ]
  },
  {
   "cell_type": "code",
   "execution_count": 6,
   "id": "18f11063",
   "metadata": {},
   "outputs": [],
   "source": [
    "total_products_ordered=len(customer_orders)\n",
    "percentage_ordered=(total_products_ordered/ len(products))*100\n",
    "ordered_status=(total_products_ordered,percentage_ordered)"
   ]
  },
  {
   "cell_type": "code",
   "execution_count": 7,
   "id": "1a550814",
   "metadata": {},
   "outputs": [
    {
     "name": "stdout",
     "output_type": "stream",
     "text": [
      "Order Statistics: \n",
      "Total Products Ordered: 1\n",
      "Percentage of Products Ordered: 20.0\n"
     ]
    }
   ],
   "source": [
    "print(\"Order Statistics: \")\n",
    "print(f\"Total Products Ordered: {total_products_ordered}\")\n",
    "print(f\"Percentage of Products Ordered: {percentage_ordered}\")"
   ]
  }
 ],
 "metadata": {
  "kernelspec": {
   "display_name": "Python 3 (ipykernel)",
   "language": "python",
   "name": "python3"
  },
  "language_info": {
   "codemirror_mode": {
    "name": "ipython",
    "version": 3
   },
   "file_extension": ".py",
   "mimetype": "text/x-python",
   "name": "python",
   "nbconvert_exporter": "python",
   "pygments_lexer": "ipython3",
   "version": "3.11.7"
  }
 },
 "nbformat": 4,
 "nbformat_minor": 5
}
