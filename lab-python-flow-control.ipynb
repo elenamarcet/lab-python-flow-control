{
 "cells": [
  {
   "cell_type": "markdown",
   "id": "d3bfc191-8885-42ee-b0a0-bbab867c6f9f",
   "metadata": {
    "tags": []
   },
   "source": [
    "# Lab | Flow Control"
   ]
  },
  {
   "cell_type": "markdown",
   "id": "3851fcd1-cf98-4653-9c89-e003b7ec9400",
   "metadata": {},
   "source": [
    "## Exercise: Managing Customer Orders Optimized\n",
    "\n",
    "In the last lab, you were starting an online store that sells various products. To ensure smooth operations, you developed a program that manages customer orders and inventory.\n",
    "\n",
    "You did so without using flow control. Let's go a step further and improve this code.\n",
    "\n",
    "Follow the steps below to complete the exercise:\n",
    "\n",
    "1. Look at your code from the lab data structures, and improve repeated code with loops.\n",
    "\n",
    "2. Instead of asking the user to input the name of three products that a customer wants to order, do the following:\n",
    "    \n",
    "    a. Prompt the user to enter the name of a product that a customer wants to order.\n",
    "    \n",
    "    b. Add the product name to the \"customer_orders\" set.\n",
    "    \n",
    "    c. Ask the user if they want to add another product (yes/no).\n",
    "    \n",
    "    d. Continue the loop until the user does not want to add another product.\n",
    "\n",
    "3. Instead of updating the inventory by subtracting 1 from the quantity of each product, only do it for  the products that were ordered (those in \"customer_orders\")."
   ]
  },
  {
   "cell_type": "code",
   "execution_count": 43,
   "id": "a67bb3ae",
   "metadata": {},
   "outputs": [],
   "source": [
    "#list of prducts\n",
    "products=[\"t-shirt\",\"mug\",\"hat\",\"book\",\"keychain\"]"
   ]
  },
  {
   "cell_type": "code",
   "execution_count": 44,
   "id": "9f0cf4ff",
   "metadata": {},
   "outputs": [],
   "source": [
    "inventory={}"
   ]
  },
  {
   "cell_type": "code",
   "execution_count": 45,
   "id": "0b406240",
   "metadata": {},
   "outputs": [],
   "source": [
    "#ask the user to enter the quantity of each product in the inventory\n",
    "for product in products:\n",
    "    quantity=int(input(f\"Enter the available quantity of {product}: \"))\n",
    "    inventory[product]=quantity\n"
   ]
  },
  {
   "cell_type": "code",
   "execution_count": null,
   "id": "19c810bf",
   "metadata": {},
   "outputs": [],
   "source": [
    "customer_orders=set()"
   ]
  },
  {
   "cell_type": "code",
   "execution_count": 42,
   "id": "38d73942",
   "metadata": {},
   "outputs": [
    {
     "ename": "KeyboardInterrupt",
     "evalue": "Interrupted by user",
     "output_type": "error",
     "traceback": [
      "\u001b[0;31m---------------------------------------------------------------------------\u001b[0m",
      "\u001b[0;31mKeyboardInterrupt\u001b[0m                         Traceback (most recent call last)",
      "Cell \u001b[0;32mIn[42], line 2\u001b[0m\n\u001b[1;32m      1\u001b[0m \u001b[38;5;28;01mwhile\u001b[39;00m \u001b[38;5;28;01mTrue\u001b[39;00m:\n\u001b[0;32m----> 2\u001b[0m     product_ordered\u001b[38;5;241m=\u001b[39m\u001b[38;5;28minput\u001b[39m(\u001b[38;5;124m\"\u001b[39m\u001b[38;5;124mEnter the name of the product the customer wants to order: \u001b[39m\u001b[38;5;124m\"\u001b[39m)\u001b[38;5;241m.\u001b[39mstrip()\u001b[38;5;241m.\u001b[39mlower()\n\u001b[1;32m      4\u001b[0m     \u001b[38;5;28;01mif\u001b[39;00m product_ordered \u001b[38;5;129;01min\u001b[39;00m products:\n\u001b[1;32m      5\u001b[0m         customer_orders\u001b[38;5;241m.\u001b[39madd(product_ordered)\n",
      "File \u001b[0;32m/opt/anaconda3/lib/python3.11/site-packages/ipykernel/kernelbase.py:1262\u001b[0m, in \u001b[0;36mKernel.raw_input\u001b[0;34m(self, prompt)\u001b[0m\n\u001b[1;32m   1260\u001b[0m     msg \u001b[38;5;241m=\u001b[39m \u001b[38;5;124m\"\u001b[39m\u001b[38;5;124mraw_input was called, but this frontend does not support input requests.\u001b[39m\u001b[38;5;124m\"\u001b[39m\n\u001b[1;32m   1261\u001b[0m     \u001b[38;5;28;01mraise\u001b[39;00m StdinNotImplementedError(msg)\n\u001b[0;32m-> 1262\u001b[0m \u001b[38;5;28;01mreturn\u001b[39;00m \u001b[38;5;28mself\u001b[39m\u001b[38;5;241m.\u001b[39m_input_request(\n\u001b[1;32m   1263\u001b[0m     \u001b[38;5;28mstr\u001b[39m(prompt),\n\u001b[1;32m   1264\u001b[0m     \u001b[38;5;28mself\u001b[39m\u001b[38;5;241m.\u001b[39m_parent_ident[\u001b[38;5;124m\"\u001b[39m\u001b[38;5;124mshell\u001b[39m\u001b[38;5;124m\"\u001b[39m],\n\u001b[1;32m   1265\u001b[0m     \u001b[38;5;28mself\u001b[39m\u001b[38;5;241m.\u001b[39mget_parent(\u001b[38;5;124m\"\u001b[39m\u001b[38;5;124mshell\u001b[39m\u001b[38;5;124m\"\u001b[39m),\n\u001b[1;32m   1266\u001b[0m     password\u001b[38;5;241m=\u001b[39m\u001b[38;5;28;01mFalse\u001b[39;00m,\n\u001b[1;32m   1267\u001b[0m )\n",
      "File \u001b[0;32m/opt/anaconda3/lib/python3.11/site-packages/ipykernel/kernelbase.py:1305\u001b[0m, in \u001b[0;36mKernel._input_request\u001b[0;34m(self, prompt, ident, parent, password)\u001b[0m\n\u001b[1;32m   1302\u001b[0m \u001b[38;5;28;01mexcept\u001b[39;00m \u001b[38;5;167;01mKeyboardInterrupt\u001b[39;00m:\n\u001b[1;32m   1303\u001b[0m     \u001b[38;5;66;03m# re-raise KeyboardInterrupt, to truncate traceback\u001b[39;00m\n\u001b[1;32m   1304\u001b[0m     msg \u001b[38;5;241m=\u001b[39m \u001b[38;5;124m\"\u001b[39m\u001b[38;5;124mInterrupted by user\u001b[39m\u001b[38;5;124m\"\u001b[39m\n\u001b[0;32m-> 1305\u001b[0m     \u001b[38;5;28;01mraise\u001b[39;00m \u001b[38;5;167;01mKeyboardInterrupt\u001b[39;00m(msg) \u001b[38;5;28;01mfrom\u001b[39;00m \u001b[38;5;28;01mNone\u001b[39;00m\n\u001b[1;32m   1306\u001b[0m \u001b[38;5;28;01mexcept\u001b[39;00m \u001b[38;5;167;01mException\u001b[39;00m:\n\u001b[1;32m   1307\u001b[0m     \u001b[38;5;28mself\u001b[39m\u001b[38;5;241m.\u001b[39mlog\u001b[38;5;241m.\u001b[39mwarning(\u001b[38;5;124m\"\u001b[39m\u001b[38;5;124mInvalid Message:\u001b[39m\u001b[38;5;124m\"\u001b[39m, exc_info\u001b[38;5;241m=\u001b[39m\u001b[38;5;28;01mTrue\u001b[39;00m)\n",
      "\u001b[0;31mKeyboardInterrupt\u001b[0m: Interrupted by user"
     ]
    }
   ],
   "source": [
    "while True:\n",
    "    product_ordered=input(\"Enter the name of the product the customer wants to order: \").strip().lower()\n",
    "\n",
    "    if product_ordered in products:\n",
    "        customer_orders.add(product_ordered)\n",
    "    else:\n",
    "        print(\"Product invalid. Please, choose a product of the list\")\n",
    "    \n",
    "    add_another= input(\"Do you want to add another product?(Yes/No): \").strip().lower()\n",
    "    if add_another != \"Yes\":\n",
    "        break\n",
    "print(\"Products in customer order:\", customer_orders)"
   ]
  },
  {
   "cell_type": "code",
   "execution_count": 35,
   "id": "d40cd55e",
   "metadata": {},
   "outputs": [],
   "source": [
    "total_products_ordered=len(customer_orders)\n",
    "percentage_ordered=(total_products_ordered/ len(products))*100\n",
    "ordered_status=(total_products_ordered,percentage_ordered)"
   ]
  },
  {
   "cell_type": "code",
   "execution_count": 36,
   "id": "0bfe39ec",
   "metadata": {},
   "outputs": [
    {
     "name": "stdout",
     "output_type": "stream",
     "text": [
      "Order Statistics: \n",
      "Total Products Ordered: 1\n",
      "Percentage of Products Ordered: 20.0\n"
     ]
    }
   ],
   "source": [
    "print(\"Order Statistics: \")\n",
    "print(f\"Total Products Ordered: {total_products_ordered}\")\n",
    "print(f\"Percentage of Products Ordered: {percentage_ordered}\")"
   ]
  },
  {
   "cell_type": "code",
   "execution_count": 39,
   "id": "e34133fe",
   "metadata": {},
   "outputs": [
    {
     "name": "stdout",
     "output_type": "stream",
     "text": [
      "t-shirt:4\n",
      "mug:3\n",
      "hat:4\n",
      "book:3\n",
      "keychain:2\n"
     ]
    }
   ],
   "source": [
    "for product_ordered in customer_orders:\n",
    "    if product_ordered in inventory:\n",
    "        inventory[product_ordered] -= 1\n",
    "\n",
    "for product, quantity in inventory.items():\n",
    "    print(f\"{product}:{quantity}\")"
   ]
  }
 ],
 "metadata": {
  "kernelspec": {
   "display_name": "Python 3 (ipykernel)",
   "language": "python",
   "name": "python3"
  },
  "language_info": {
   "codemirror_mode": {
    "name": "ipython",
    "version": 3
   },
   "file_extension": ".py",
   "mimetype": "text/x-python",
   "name": "python",
   "nbconvert_exporter": "python",
   "pygments_lexer": "ipython3",
   "version": "3.11.7"
  }
 },
 "nbformat": 4,
 "nbformat_minor": 5
}
